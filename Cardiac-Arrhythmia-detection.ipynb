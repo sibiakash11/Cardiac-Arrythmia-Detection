{
 "cells": [
  {
   "cell_type": "code",
   "execution_count": 29,
   "id": "b7d7a43d",
   "metadata": {},
   "outputs": [],
   "source": [
    "import tensorflow as tf\n",
    "from sklearn.metrics import confusion_matrix\n",
    "from sklearn.metrics import accuracy_score\n",
    "import numpy as np\n",
    "from tabulate import tabulate\n",
    "import matplotlib.pyplot as plt\n",
    "from sklearn.metrics import classification_report\n",
    "#from tensorflow.python.framework import ops\n"
   ]
  },
  {
   "cell_type": "code",
   "execution_count": 7,
   "id": "b3eb8550",
   "metadata": {},
   "outputs": [],
   "source": [
    "import pandas as pd\n",
    "import numpy as np"
   ]
  },
  {
   "cell_type": "code",
   "execution_count": 8,
   "id": "72ccb90a",
   "metadata": {},
   "outputs": [],
   "source": [
    "df = pd.read_csv(r\"\"\"C:\\Users\\aadit\\Downloads\\M1.csv\"\"\")"
   ]
  },
  {
   "cell_type": "code",
   "execution_count": 9,
   "id": "b8a4d1f3",
   "metadata": {},
   "outputs": [],
   "source": [
    "x = df.to_numpy()"
   ]
  },
  {
   "cell_type": "code",
   "execution_count": 10,
   "id": "f3414abb",
   "metadata": {},
   "outputs": [
    {
     "name": "stdout",
     "output_type": "stream",
     "text": [
      "[[ 0.78889  0.81111  0.81389 ...  0.15833  0.16389 70.244  ]\n",
      " [ 0.76944  0.79167  0.80833 ...  0.15833  0.16111 66.462  ]\n",
      " [ 0.82222  0.82222  0.86944 ...  0.175    0.17778 72.     ]\n",
      " ...\n",
      " [ 1.1833   1.2111   1.2389  ...  0.19167  0.75556 54.     ]\n",
      " [ 1.1694   1.2306   1.2528  ...  0.13611  0.14167 54.     ]\n",
      " [ 1.1222   1.1722   1.1833  ...  0.13611  0.70556 54.     ]]\n"
     ]
    },
    {
     "data": {
      "text/html": [
       "<div>\n",
       "<style scoped>\n",
       "    .dataframe tbody tr th:only-of-type {\n",
       "        vertical-align: middle;\n",
       "    }\n",
       "\n",
       "    .dataframe tbody tr th {\n",
       "        vertical-align: top;\n",
       "    }\n",
       "\n",
       "    .dataframe thead th {\n",
       "        text-align: right;\n",
       "    }\n",
       "</style>\n",
       "<table border=\"1\" class=\"dataframe\">\n",
       "  <thead>\n",
       "    <tr style=\"text-align: right;\">\n",
       "      <th></th>\n",
       "      <th>0</th>\n",
       "      <th>1</th>\n",
       "      <th>2</th>\n",
       "      <th>3</th>\n",
       "      <th>4</th>\n",
       "      <th>5</th>\n",
       "      <th>6</th>\n",
       "      <th>7</th>\n",
       "      <th>8</th>\n",
       "      <th>9</th>\n",
       "    </tr>\n",
       "  </thead>\n",
       "  <tbody>\n",
       "    <tr>\n",
       "      <th>0</th>\n",
       "      <td>0.78889</td>\n",
       "      <td>0.81111</td>\n",
       "      <td>0.81389</td>\n",
       "      <td>0.088889</td>\n",
       "      <td>0.091667</td>\n",
       "      <td>0.094444</td>\n",
       "      <td>0.20556</td>\n",
       "      <td>0.15833</td>\n",
       "      <td>0.16389</td>\n",
       "      <td>70.244</td>\n",
       "    </tr>\n",
       "    <tr>\n",
       "      <th>1</th>\n",
       "      <td>0.76944</td>\n",
       "      <td>0.79167</td>\n",
       "      <td>0.80833</td>\n",
       "      <td>0.088889</td>\n",
       "      <td>0.086111</td>\n",
       "      <td>0.091667</td>\n",
       "      <td>0.16944</td>\n",
       "      <td>0.15833</td>\n",
       "      <td>0.16111</td>\n",
       "      <td>66.462</td>\n",
       "    </tr>\n",
       "    <tr>\n",
       "      <th>2</th>\n",
       "      <td>0.82222</td>\n",
       "      <td>0.82222</td>\n",
       "      <td>0.86944</td>\n",
       "      <td>0.086111</td>\n",
       "      <td>0.088889</td>\n",
       "      <td>0.088889</td>\n",
       "      <td>0.18333</td>\n",
       "      <td>0.17500</td>\n",
       "      <td>0.17778</td>\n",
       "      <td>72.000</td>\n",
       "    </tr>\n",
       "    <tr>\n",
       "      <th>3</th>\n",
       "      <td>0.80556</td>\n",
       "      <td>0.82778</td>\n",
       "      <td>0.84444</td>\n",
       "      <td>0.088889</td>\n",
       "      <td>0.086111</td>\n",
       "      <td>0.088889</td>\n",
       "      <td>0.17778</td>\n",
       "      <td>0.17222</td>\n",
       "      <td>0.17500</td>\n",
       "      <td>72.000</td>\n",
       "    </tr>\n",
       "    <tr>\n",
       "      <th>4</th>\n",
       "      <td>0.78333</td>\n",
       "      <td>0.80833</td>\n",
       "      <td>0.84167</td>\n",
       "      <td>0.091667</td>\n",
       "      <td>0.088889</td>\n",
       "      <td>0.091667</td>\n",
       "      <td>0.16111</td>\n",
       "      <td>0.15556</td>\n",
       "      <td>0.16944</td>\n",
       "      <td>72.000</td>\n",
       "    </tr>\n",
       "  </tbody>\n",
       "</table>\n",
       "</div>"
      ],
      "text/plain": [
       "         0        1        2         3         4         5        6        7  \\\n",
       "0  0.78889  0.81111  0.81389  0.088889  0.091667  0.094444  0.20556  0.15833   \n",
       "1  0.76944  0.79167  0.80833  0.088889  0.086111  0.091667  0.16944  0.15833   \n",
       "2  0.82222  0.82222  0.86944  0.086111  0.088889  0.088889  0.18333  0.17500   \n",
       "3  0.80556  0.82778  0.84444  0.088889  0.086111  0.088889  0.17778  0.17222   \n",
       "4  0.78333  0.80833  0.84167  0.091667  0.088889  0.091667  0.16111  0.15556   \n",
       "\n",
       "         8       9  \n",
       "0  0.16389  70.244  \n",
       "1  0.16111  66.462  \n",
       "2  0.17778  72.000  \n",
       "3  0.17500  72.000  \n",
       "4  0.16944  72.000  "
      ]
     },
     "execution_count": 10,
     "metadata": {},
     "output_type": "execute_result"
    }
   ],
   "source": [
    "k = 0\n",
    "y = x[:,10]\n",
    "x = x[:,0:10]\n",
    "\n",
    "for i in range(x.shape[0]):\n",
    "    x[i,0:3] = sorted(x[i,0:3])\n",
    "    x[i,4:6] = sorted(x[i,4:6])\n",
    "    x[i,7:10] = sorted(x[i,7:10])\n",
    "    \n",
    "print(x)\n",
    "principal_x = pd.DataFrame(x)\n",
    "principal_x.head()\n"
   ]
  },
  {
   "cell_type": "code",
   "execution_count": 11,
   "id": "a65c751e",
   "metadata": {},
   "outputs": [
    {
     "data": {
      "text/html": [
       "<div>\n",
       "<style scoped>\n",
       "    .dataframe tbody tr th:only-of-type {\n",
       "        vertical-align: middle;\n",
       "    }\n",
       "\n",
       "    .dataframe tbody tr th {\n",
       "        vertical-align: top;\n",
       "    }\n",
       "\n",
       "    .dataframe thead th {\n",
       "        text-align: right;\n",
       "    }\n",
       "</style>\n",
       "<table border=\"1\" class=\"dataframe\">\n",
       "  <thead>\n",
       "    <tr style=\"text-align: right;\">\n",
       "      <th></th>\n",
       "      <th>0</th>\n",
       "      <th>1</th>\n",
       "      <th>2</th>\n",
       "      <th>3</th>\n",
       "      <th>4</th>\n",
       "      <th>5</th>\n",
       "      <th>6</th>\n",
       "      <th>7</th>\n",
       "      <th>8</th>\n",
       "      <th>9</th>\n",
       "    </tr>\n",
       "  </thead>\n",
       "  <tbody>\n",
       "    <tr>\n",
       "      <th>0</th>\n",
       "      <td>0.78889</td>\n",
       "      <td>0.81111</td>\n",
       "      <td>0.81389</td>\n",
       "      <td>0.088889</td>\n",
       "      <td>0.091667</td>\n",
       "      <td>0.094444</td>\n",
       "      <td>0.20556</td>\n",
       "      <td>0.15833</td>\n",
       "      <td>0.16389</td>\n",
       "      <td>70.244</td>\n",
       "    </tr>\n",
       "    <tr>\n",
       "      <th>1</th>\n",
       "      <td>0.76944</td>\n",
       "      <td>0.79167</td>\n",
       "      <td>0.80833</td>\n",
       "      <td>0.088889</td>\n",
       "      <td>0.086111</td>\n",
       "      <td>0.091667</td>\n",
       "      <td>0.16944</td>\n",
       "      <td>0.15833</td>\n",
       "      <td>0.16111</td>\n",
       "      <td>66.462</td>\n",
       "    </tr>\n",
       "    <tr>\n",
       "      <th>2</th>\n",
       "      <td>0.82222</td>\n",
       "      <td>0.82222</td>\n",
       "      <td>0.86944</td>\n",
       "      <td>0.086111</td>\n",
       "      <td>0.088889</td>\n",
       "      <td>0.088889</td>\n",
       "      <td>0.18333</td>\n",
       "      <td>0.17500</td>\n",
       "      <td>0.17778</td>\n",
       "      <td>72.000</td>\n",
       "    </tr>\n",
       "    <tr>\n",
       "      <th>3</th>\n",
       "      <td>0.80556</td>\n",
       "      <td>0.82778</td>\n",
       "      <td>0.84444</td>\n",
       "      <td>0.088889</td>\n",
       "      <td>0.086111</td>\n",
       "      <td>0.088889</td>\n",
       "      <td>0.17778</td>\n",
       "      <td>0.17222</td>\n",
       "      <td>0.17500</td>\n",
       "      <td>72.000</td>\n",
       "    </tr>\n",
       "    <tr>\n",
       "      <th>4</th>\n",
       "      <td>0.78333</td>\n",
       "      <td>0.80833</td>\n",
       "      <td>0.84167</td>\n",
       "      <td>0.091667</td>\n",
       "      <td>0.088889</td>\n",
       "      <td>0.091667</td>\n",
       "      <td>0.16111</td>\n",
       "      <td>0.15556</td>\n",
       "      <td>0.16944</td>\n",
       "      <td>72.000</td>\n",
       "    </tr>\n",
       "  </tbody>\n",
       "</table>\n",
       "</div>"
      ],
      "text/plain": [
       "         0        1        2         3         4         5        6        7  \\\n",
       "0  0.78889  0.81111  0.81389  0.088889  0.091667  0.094444  0.20556  0.15833   \n",
       "1  0.76944  0.79167  0.80833  0.088889  0.086111  0.091667  0.16944  0.15833   \n",
       "2  0.82222  0.82222  0.86944  0.086111  0.088889  0.088889  0.18333  0.17500   \n",
       "3  0.80556  0.82778  0.84444  0.088889  0.086111  0.088889  0.17778  0.17222   \n",
       "4  0.78333  0.80833  0.84167  0.091667  0.088889  0.091667  0.16111  0.15556   \n",
       "\n",
       "         8       9  \n",
       "0  0.16389  70.244  \n",
       "1  0.16111  66.462  \n",
       "2  0.17778  72.000  \n",
       "3  0.17500  72.000  \n",
       "4  0.16944  72.000  "
      ]
     },
     "execution_count": 11,
     "metadata": {},
     "output_type": "execute_result"
    }
   ],
   "source": [
    "principal_x.head()"
   ]
  },
  {
   "cell_type": "code",
   "execution_count": 12,
   "id": "06637324",
   "metadata": {},
   "outputs": [
    {
     "data": {
      "text/plain": [
       "(132, 10)"
      ]
     },
     "execution_count": 12,
     "metadata": {},
     "output_type": "execute_result"
    }
   ],
   "source": [
    "from sklearn.model_selection import train_test_split\n",
    "X_train, X_test, y_train, y_test = train_test_split(x,y, test_size=0.33, random_state=4)\n",
    "X_train.shape"
   ]
  },
  {
   "cell_type": "code",
   "execution_count": 30,
   "id": "e64844ea",
   "metadata": {},
   "outputs": [
    {
     "name": "stderr",
     "output_type": "stream",
     "text": [
      "C:\\Users\\aadit\\.conda\\envs\\tf-gpu\\lib\\site-packages\\sklearn\\metrics\\_classification.py:1245: UndefinedMetricWarning: Precision and F-score are ill-defined and being set to 0.0 in labels with no predicted samples. Use `zero_division` parameter to control this behavior.\n",
      "  _warn_prf(average, modifier, msg_start, len(result))\n",
      "C:\\Users\\aadit\\.conda\\envs\\tf-gpu\\lib\\site-packages\\sklearn\\metrics\\_classification.py:1245: UndefinedMetricWarning: Precision and F-score are ill-defined and being set to 0.0 in labels with no predicted samples. Use `zero_division` parameter to control this behavior.\n",
      "  _warn_prf(average, modifier, msg_start, len(result))\n",
      "C:\\Users\\aadit\\.conda\\envs\\tf-gpu\\lib\\site-packages\\sklearn\\metrics\\_classification.py:1245: UndefinedMetricWarning: Precision and F-score are ill-defined and being set to 0.0 in labels with no predicted samples. Use `zero_division` parameter to control this behavior.\n",
      "  _warn_prf(average, modifier, msg_start, len(result))\n"
     ]
    },
    {
     "data": {
      "text/plain": [
       "'              precision    recall  f1-score   support\\n\\n         0.0       0.46      0.94      0.62        18\\n         1.0       0.00      0.00      0.00         7\\n         2.0       0.38      0.38      0.38        16\\n         3.0       0.00      0.00      0.00        10\\n         4.0       0.70      0.70      0.70        10\\n         5.0       1.00      0.60      0.75         5\\n\\n    accuracy                           0.50        66\\n   macro avg       0.42      0.44      0.41        66\\nweighted avg       0.40      0.50      0.42        66\\n'"
      ]
     },
     "execution_count": 30,
     "metadata": {},
     "output_type": "execute_result"
    }
   ],
   "source": [
    "from sklearn import svm\n",
    "clf = svm.SVC()\n",
    "clf.fit(X_train, y_train)\n",
    "y_pred =clf.predict(X_test)\n",
    "confusion_matrix(y_test, y_pred)\n",
    "svm_accuracy = accuracy_score(y_test, y_pred)\n"
   ]
  },
  {
   "cell_type": "code",
   "execution_count": 32,
   "id": "ef185930",
   "metadata": {},
   "outputs": [
    {
     "name": "stderr",
     "output_type": "stream",
     "text": [
      "C:\\Users\\aadit\\.conda\\envs\\tf-gpu\\lib\\site-packages\\sklearn\\linear_model\\_logistic.py:763: ConvergenceWarning: lbfgs failed to converge (status=1):\n",
      "STOP: TOTAL NO. of ITERATIONS REACHED LIMIT.\n",
      "\n",
      "Increase the number of iterations (max_iter) or scale the data as shown in:\n",
      "    https://scikit-learn.org/stable/modules/preprocessing.html\n",
      "Please also refer to the documentation for alternative solver options:\n",
      "    https://scikit-learn.org/stable/modules/linear_model.html#logistic-regression\n",
      "  n_iter_i = _check_optimize_result(\n"
     ]
    },
    {
     "data": {
      "text/plain": [
       "'              precision    recall  f1-score   support\\n\\n         0.0       0.72      1.00      0.84        18\\n         1.0       1.00      1.00      1.00         7\\n         2.0       0.73      0.69      0.71        16\\n         3.0       0.83      0.50      0.62        10\\n         4.0       0.89      0.80      0.84        10\\n         5.0       1.00      0.80      0.89         5\\n\\n    accuracy                           0.80        66\\n   macro avg       0.86      0.80      0.82        66\\nweighted avg       0.82      0.80      0.80        66\\n'"
      ]
     },
     "execution_count": 32,
     "metadata": {},
     "output_type": "execute_result"
    }
   ],
   "source": [
    "from sklearn.linear_model import LogisticRegression\n",
    "pcar = LogisticRegression(random_state=0).fit(X_train,y_train)\n",
    "y_pred =pcar.predict(X_test)\n",
    "confusion_matrix(y_test, y_pred)\n",
    "logistic_accuracy = accuracy_score(y_test, y_pred)\n",
    "classification_report(y_test, y_pred)"
   ]
  },
  {
   "cell_type": "code",
   "execution_count": 15,
   "id": "9a3ab992",
   "metadata": {},
   "outputs": [
    {
     "data": {
      "text/plain": [
       "0.9545454545454546"
      ]
     },
     "execution_count": 15,
     "metadata": {},
     "output_type": "execute_result"
    }
   ],
   "source": [
    "from sklearn.tree import DecisionTreeClassifier\n",
    "clf = DecisionTreeClassifier(random_state=0).fit(X_train,y_train)\n",
    "y_pred =clf.predict(X_test)\n",
    "confusion_matrix(y_test, y_pred)\n",
    "decisionTree_accuracy = accuracy_score(y_test, y_pred)\n",
    "decisionTree_accuracy"
   ]
  },
  {
   "cell_type": "code",
   "execution_count": 16,
   "id": "4cea461e",
   "metadata": {},
   "outputs": [
    {
     "data": {
      "text/plain": [
       "0.6818181818181818"
      ]
     },
     "execution_count": 16,
     "metadata": {},
     "output_type": "execute_result"
    }
   ],
   "source": [
    "from sklearn.ensemble import RandomForestClassifier\n",
    "clf = RandomForestClassifier(max_depth=2, random_state=0).fit(X_train,y_train)\n",
    "y_pred =clf.predict(X_test)\n",
    "confusion_matrix(y_test, y_pred)\n",
    "RF_accuracy = accuracy_score(y_test, y_pred)\n",
    "RF_accuracy"
   ]
  },
  {
   "cell_type": "code",
   "execution_count": 17,
   "id": "536027e3",
   "metadata": {},
   "outputs": [
    {
     "data": {
      "text/plain": [
       "0.9393939393939394"
      ]
     },
     "execution_count": 17,
     "metadata": {},
     "output_type": "execute_result"
    }
   ],
   "source": [
    "from sklearn.naive_bayes import GaussianNB\n",
    "y_pred = GaussianNB().fit(X_train, y_train).predict(X_test)\n",
    "confusion_matrix(y_test, y_pred)\n",
    "NB_accuracy = accuracy_score(y_test, y_pred)\n",
    "NB_accuracy"
   ]
  },
  {
   "cell_type": "code",
   "execution_count": 18,
   "id": "51224c9b",
   "metadata": {},
   "outputs": [],
   "source": [
    "epochs = 3000\n",
    "batch_size = 10\n",
    "# convert x_test to tensor to pass through model (train data will be converted to\n",
    "# tensors on the fly)\n",
    "x_test = tf.Variable(X_test)"
   ]
  },
  {
   "cell_type": "code",
   "execution_count": 19,
   "id": "ece109c3",
   "metadata": {},
   "outputs": [],
   "source": [
    "def get_batch(x_data, y_data, batch_size):\n",
    "    idxs = np.random.randint(0, len(y_data), batch_size)\n",
    "    return x_data[idxs,:], y_data[idxs]"
   ]
  },
  {
   "cell_type": "code",
   "execution_count": 20,
   "id": "0a9908d0",
   "metadata": {},
   "outputs": [],
   "source": [
    "W1 = tf.Variable(tf.random.normal([10, 300]), name='W1')\n",
    "b1 = tf.Variable(tf.random.normal([300]), name='b1')\n",
    "# and the weights connecting the hidden layer to the output layer\n",
    "W2 = tf.Variable(tf.random.normal([300, 100]), name='W2')\n",
    "b2 = tf.Variable(tf.random.normal([100]), name='b2')\n",
    "W3 = tf.Variable(tf.random.normal([100,50]), name='W3')\n",
    "b3 = tf.Variable(tf.random.normal([50]), name='b3')\n",
    "W4 = tf.Variable(tf.random.normal([50,6]), name='W4')\n",
    "b4 = tf.Variable(tf.random.normal([6]), name='b4')"
   ]
  },
  {
   "cell_type": "code",
   "execution_count": 21,
   "id": "49589f96",
   "metadata": {},
   "outputs": [],
   "source": [
    "def nn_model(x_input, W1, b1, W2, b2):\n",
    "    x_input = tf.reshape(x_input, (x_input.shape[0], -1))\n",
    "    x = tf.add(tf.matmul(tf.cast(x_input, tf.float32), W1), b1)\n",
    "    x = tf.nn.tanh(x)\n",
    "    x = tf.add(tf.matmul(tf.cast(x, tf.float32), W2), b2)\n",
    "    x = tf.nn.relu(x)\n",
    "    x = tf.add(tf.matmul(tf.cast(x, tf.float32), W3), b3)\n",
    "    x = tf.nn.relu(x)\n",
    "    logits = tf.add(tf.matmul(x, W4), b4)\n",
    "    return logits"
   ]
  },
  {
   "cell_type": "code",
   "execution_count": 22,
   "id": "86a62c35",
   "metadata": {},
   "outputs": [],
   "source": [
    "def loss_fn(logits, labels):\n",
    "    cross_entropy = tf.reduce_mean(tf.nn.softmax_cross_entropy_with_logits(labels=labels,\n",
    "                                                                              logits=logits))\n",
    "    return cross_entropy"
   ]
  },
  {
   "cell_type": "code",
   "execution_count": 23,
   "id": "a05040a3",
   "metadata": {},
   "outputs": [],
   "source": [
    "optimizer = tf.keras.optimizers.Adam(learning_rate=0.001, beta_1=0.9, beta_2=0.999, epsilon=1e-07, amsgrad=False)"
   ]
  },
  {
   "cell_type": "code",
   "execution_count": 24,
   "id": "740de128",
   "metadata": {},
   "outputs": [
    {
     "name": "stdout",
     "output_type": "stream",
     "text": [
      "Epoch: 1, loss=212.465, test set      accuracy=21.212%\n",
      "Epoch: 101, loss=5.670, test set      accuracy=78.788%\n",
      "Epoch: 201, loss=8.585, test set      accuracy=84.848%\n",
      "Epoch: 301, loss=1.772, test set      accuracy=87.879%\n",
      "Epoch: 401, loss=3.574, test set      accuracy=72.727%\n",
      "Epoch: 501, loss=2.208, test set      accuracy=75.758%\n",
      "Epoch: 601, loss=1.771, test set      accuracy=83.333%\n",
      "Epoch: 701, loss=9.404, test set      accuracy=92.424%\n",
      "Epoch: 801, loss=1.615, test set      accuracy=92.424%\n",
      "Epoch: 901, loss=1.196, test set      accuracy=93.939%\n",
      "Epoch: 1001, loss=6.239, test set      accuracy=93.939%\n",
      "Epoch: 1101, loss=6.337, test set      accuracy=89.394%\n",
      "Epoch: 1201, loss=8.076, test set      accuracy=89.394%\n",
      "Epoch: 1301, loss=3.012, test set      accuracy=92.424%\n",
      "Epoch: 1401, loss=3.336, test set      accuracy=90.909%\n",
      "Epoch: 1501, loss=2.593, test set      accuracy=93.939%\n",
      "Epoch: 1601, loss=3.479, test set      accuracy=86.364%\n",
      "Epoch: 1701, loss=2.133, test set      accuracy=92.424%\n",
      "Epoch: 1801, loss=2.107, test set      accuracy=68.182%\n",
      "Epoch: 1901, loss=4.009, test set      accuracy=84.848%\n",
      "Epoch: 2001, loss=1.630, test set      accuracy=93.939%\n",
      "Epoch: 2101, loss=3.829, test set      accuracy=92.424%\n",
      "Epoch: 2201, loss=2.192, test set      accuracy=86.364%\n",
      "Epoch: 2301, loss=3.471, test set      accuracy=83.333%\n",
      "Epoch: 2401, loss=10.065, test set      accuracy=84.848%\n",
      "Epoch: 2501, loss=1.064, test set      accuracy=92.424%\n",
      "Epoch: 2601, loss=2.323, test set      accuracy=93.939%\n",
      "Epoch: 2701, loss=2.491, test set      accuracy=92.424%\n",
      "Epoch: 2801, loss=5.553, test set      accuracy=84.848%\n",
      "Epoch: 2901, loss=6.925, test set      accuracy=84.848%\n",
      "Epoch: 3000, loss=0.736, test set      accuracy=87.879%\n",
      "\n",
      "Training complete!\n",
      "[3 0 2 2 0 3 2 3 2 3 3 0 5 3 2 3 4 5 4 3 3 4 0 2 4 0 0 0 3 3 1 2 0 3 0 5 0\n",
      " 5 2 1 4 2 0 5 2 2 4 0 0 3 2 1 1 3 0 0 1 2 1 4 2 3 2 2 1 2]\n",
      "[0. 0. 2. 2. 0. 3. 2. 0. 2. 3. 3. 0. 5. 3. 4. 3. 4. 5. 4. 3. 4. 4. 0. 2.\n",
      " 4. 0. 0. 0. 3. 3. 1. 2. 2. 3. 0. 5. 0. 5. 2. 1. 4. 2. 0. 5. 2. 2. 4. 0.\n",
      " 0. 3. 4. 1. 1. 0. 0. 0. 1. 2. 1. 4. 2. 0. 2. 2. 1. 2.]\n"
     ]
    }
   ],
   "source": [
    "total_batch = int(len(y_train) / batch_size)\n",
    "max_acc = 0\n",
    "for epoch in range(epochs):\n",
    "    avg_loss = 0\n",
    "    for i in range(total_batch):\n",
    "        batch_x, batch_y = get_batch(X_train, y_train, batch_size=batch_size)\n",
    "        # create tensors\n",
    "        batch_x = tf.Variable(batch_x)\n",
    "        #batch_y = tf.Variable(batch_y)\n",
    "        # create a one hot vector\n",
    "        batch_y = tf.one_hot(batch_y, 6)\n",
    "        with tf.GradientTape() as tape:\n",
    "            logits = nn_model(batch_x, W1, b1, W2, b2)\n",
    "            loss = loss_fn(logits, batch_y)\n",
    "        gradients = tape.gradient(loss, [W1, b1, W2, b2])\n",
    "        optimizer.apply_gradients(zip(gradients, [W1, b1, W2, b2]))\n",
    "        #optimizer.minimize(loss)\n",
    "        avg_loss += loss / total_batch\n",
    "        #optimizer.minimize(avg_loss)\n",
    "    #test_logits = nn_model(X_test, W1, b1, W2, b2)\n",
    "    test_logits = nn_model(X_test, W1, b1, W2, b2)\n",
    "\n",
    "    max_idxs = tf.argmax(test_logits, axis=1)\n",
    "    #test_acc = np.sum(max_idxs.numpy() == y_test) / len(y_test)\n",
    "\n",
    "    test_acc = np.sum(max_idxs.numpy() == y_test) / len(y_test)\n",
    "    max_acc = max(max_acc,test_acc)\n",
    "    if(epoch%100==0):\n",
    "        print(f\"Epoch: {epoch + 1}, loss={avg_loss:.3f}, test set      accuracy={test_acc*100:.3f}%\")\n",
    "\n",
    "print(f\"Epoch: {epoch + 1}, loss={avg_loss:.3f}, test set      accuracy={test_acc*100:.3f}%\")\n",
    "print(\"\\nTraining complete!\")\n",
    "print(max_idxs.numpy())\n",
    "print(y_test)\n",
    "\n",
    "NN_accuracy = max_acc"
   ]
  },
  {
   "cell_type": "code",
   "execution_count": 88,
   "id": "3c833afa",
   "metadata": {},
   "outputs": [],
   "source": [
    "optimizer = tf.keras.optimizers.Adam(learning_rate = 0.001)"
   ]
  },
  {
   "cell_type": "code",
   "execution_count": 45,
   "id": "b6e2f0d2",
   "metadata": {},
   "outputs": [
    {
     "name": "stdout",
     "output_type": "stream",
     "text": [
      "| Algorithm           |   Accuracy |\n",
      "|---------------------+------------|\n",
      "| SVM                 |   0.5      |\n",
      "| Random Forrest      |   0.681818 |\n",
      "| Logistic Regression |   0.80303  |\n",
      "| Naive Bayes         |   0.939394 |\n",
      "| Decision Tree       |   0.954545 |\n",
      "| Neural Network      |   0.984848 |\n"
     ]
    }
   ],
   "source": [
    "table = [['SVM',svm_accuracy],['Random Forrest',RF_accuracy],['Logistic Regression',logistic_accuracy],['Naive Bayes',NB_accuracy],['Decision Tree',decisionTree_accuracy],['Neural Network',NN_accuracy]]\n",
    "print(tabulate(table,headers=['Algorithm', 'Accuracy'], tablefmt='orgtbl'))"
   ]
  },
  {
   "cell_type": "code",
   "execution_count": 27,
   "id": "ddebd81d",
   "metadata": {},
   "outputs": [
    {
     "data": {
      "text/plain": [
       "<BarContainer object of 6 artists>"
      ]
     },
     "execution_count": 27,
     "metadata": {},
     "output_type": "execute_result"
    },
    {
     "data": {
      "image/png": "[encoded data removed]",
      "text/plain": [
       "<Figure size 432x288 with 1 Axes>"
      ]
     },
     "metadata": {
      "needs_background": "light"
     },
     "output_type": "display_data"
    }
   ],
   "source": [
    "x = np.array([\"SVM\", \"RF\", \"LR\", \"NB\",\"DT\",\"NN\"])\n",
    "y = np.array([svm_accuracy,RF_accuracy,logistic_accuracy, NB_accuracy, decisionTree_accuracy, NN_accuracy])*100\n",
    "\n",
    "plt.bar(x,y)"
   ]
  },
  {
   "cell_type": "code",
   "execution_count": null,
   "id": "1b1fa39f",
   "metadata": {},
   "outputs": [],
   "source": []
  }
 ],
 "metadata": {
  "kernelspec": {
   "display_name": "Python 3",
   "language": "python",
   "name": "python3"
  },
  "language_info": {
   "codemirror_mode": {
    "name": "ipython",
    "version": 3
   },
   "file_extension": ".py",
   "mimetype": "text/x-python",
   "name": "python",
   "nbconvert_exporter": "python",
   "pygments_lexer": "ipython3",
   "version": "3.8.8"
  }
 },
 "nbformat": 4,
 "nbformat_minor": 5
}
